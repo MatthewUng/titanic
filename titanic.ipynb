{
 "cells": [
  {
   "cell_type": "code",
   "execution_count": null,
   "metadata": {
    "collapsed": true
   },
   "outputs": [],
   "source": [
    "import matplotlib.pyplot as plt\n",
    "from sklearn.linear_model import LogisticRegression\n",
    "import pandas as pd\n",
    "import numpy as np\n",
    "%matplotlib inline"
   ]
  },
  {
   "cell_type": "code",
   "execution_count": null,
   "metadata": {
    "collapsed": false
   },
   "outputs": [],
   "source": [
    "train_df = pd.read_csv(\"data/train.csv\")\n",
    "test_df = pd.read_csv(\"data/test.csv\")\n",
    "\n",
    "id_list = test_df['PassengerId']\n",
    "\n",
    "train_df = train_df.drop([\"PassengerId\",\"Name\", \"Ticket\", \"Cabin\"], axis=1);\n",
    "test_df = test_df.drop(['PassengerId', 'Name', \"Ticket\", 'Cabin'], axis=1);"
   ]
  },
  {
   "cell_type": "code",
   "execution_count": null,
   "metadata": {
    "collapsed": false
   },
   "outputs": [],
   "source": [
    "train_df.head()"
   ]
  },
  {
   "cell_type": "code",
   "execution_count": null,
   "metadata": {
    "collapsed": false
   },
   "outputs": [],
   "source": [
    "test_df.head()"
   ]
  },
  {
   "cell_type": "code",
   "execution_count": null,
   "metadata": {
    "collapsed": false
   },
   "outputs": [],
   "source": [
    "train_df.info()"
   ]
  },
  {
   "cell_type": "code",
   "execution_count": null,
   "metadata": {
    "collapsed": false
   },
   "outputs": [],
   "source": [
    "test_df.info()"
   ]
  },
  {
   "cell_type": "code",
   "execution_count": null,
   "metadata": {
    "collapsed": true
   },
   "outputs": [],
   "source": [
    "def feature_normalization(feature_vector):\n",
    "    # scale to [-1, +1]\n",
    "    max_value = max(feature_vector)\n",
    "    min_value = min(feature_vector)\n",
    "    mean_value = feature_vector.mean()\n",
    "    return (feature_vector - mean_value) / (max_value - min_value)\n",
    "\n",
    "def dummy(data, columns):\n",
    "    for column in columns:\n",
    "        if column not in data.columns:\n",
    "            continue\n",
    "        dummy_data = pd.get_dummies(data[column], drop_first=False)\n",
    "        num = len(dummy_data.loc[0,:])\n",
    "        #dummy_data.columns = [column+\"_\"+str(x+1) for x in range(num)]\n",
    "        data = pd.concat([data, dummy_data], axis=1)\n",
    "        data = data.drop(column, axis=1)\n",
    "    return data\n"
   ]
  },
  {
   "cell_type": "code",
   "execution_count": null,
   "metadata": {
    "collapsed": false
   },
   "outputs": [],
   "source": [
    "train_df = dummy(train_df, ['Sex', \"Embarked\", 'Pclass'])\n",
    "test_df = dummy(test_df, ['Sex', 'Embarked', 'Pclass'])\n",
    "train_df.head()"
   ]
  },
  {
   "cell_type": "code",
   "execution_count": null,
   "metadata": {
    "collapsed": false
   },
   "outputs": [],
   "source": [
    "train_df.loc[train_df.Age.isnull()]"
   ]
  },
  {
   "cell_type": "code",
   "execution_count": null,
   "metadata": {
    "collapsed": false
   },
   "outputs": [],
   "source": [
    "def fare(data):\n",
    "    data.loc[data.Fare.isnull(), 'Fare'] = data['Fare'].mean()\n",
    "    data.Fare.astype(int)\n",
    "    return data\n",
    "\n",
    "def age(data):\n",
    "    most = data.Age.mode()[0]\n",
    "    data.loc[data.Age.isnull(), 'Age'] = most\n",
    "    data.Age.astype(int)\n",
    "    return data\n",
    "\n",
    "test_df = fare(test_df)\n",
    "train_df = age(train_df)\n",
    "test_df = age(test_df)"
   ]
  },
  {
   "cell_type": "code",
   "execution_count": null,
   "metadata": {
    "collapsed": false,
    "scrolled": true
   },
   "outputs": [],
   "source": [
    "train_df.info()"
   ]
  },
  {
   "cell_type": "code",
   "execution_count": null,
   "metadata": {
    "collapsed": false
   },
   "outputs": [],
   "source": [
    "test_df.info()"
   ]
  },
  {
   "cell_type": "code",
   "execution_count": null,
   "metadata": {
    "collapsed": false
   },
   "outputs": [],
   "source": [
    "train_df.head()"
   ]
  },
  {
   "cell_type": "code",
   "execution_count": null,
   "metadata": {
    "collapsed": false
   },
   "outputs": [],
   "source": [
    "model = LogisticRegression()\n",
    "model.fit(train_df.drop('Survived', axis=1), train_df.Survived)\n",
    "predictions = model.predict(test_df)"
   ]
  },
  {
   "cell_type": "code",
   "execution_count": null,
   "metadata": {
    "collapsed": false
   },
   "outputs": [],
   "source": [
    "data_d = {\"PassengerId\":id_list, \"Survived\":predictions}\n",
    "output = pd.DataFrame(data_d)\n",
    "output.to_csv(\"predictions.csv\", index=False)"
   ]
  },
  {
   "cell_type": "code",
   "execution_count": null,
   "metadata": {
    "collapsed": true
   },
   "outputs": [],
   "source": []
  },
  {
   "cell_type": "code",
   "execution_count": null,
   "metadata": {
    "collapsed": true
   },
   "outputs": [],
   "source": []
  }
 ],
 "metadata": {
  "kernelspec": {
   "display_name": "Python 3",
   "language": "python",
   "name": "python3"
  },
  "language_info": {
   "codemirror_mode": {
    "name": "ipython",
    "version": 3
   },
   "file_extension": ".py",
   "mimetype": "text/x-python",
   "name": "python",
   "nbconvert_exporter": "python",
   "pygments_lexer": "ipython3",
   "version": "3.6.0"
  }
 },
 "nbformat": 4,
 "nbformat_minor": 0
}
